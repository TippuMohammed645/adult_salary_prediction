{
 "cells": [
  {
   "cell_type": "code",
   "execution_count": 2,
   "metadata": {},
   "outputs": [],
   "source": [
    "import pandas as pd\n",
    "import joblib\n",
    "from sklearn.preprocessing import OneHotEncoder\n",
    "from sklearn.pipeline import Pipeline\n",
    "from sklearn.compose import ColumnTransformer\n",
    "from flask import Flask,request,jsonify,render_template\n",
    "import numpy as np"
   ]
  },
  {
   "cell_type": "code",
   "execution_count": 3,
   "metadata": {},
   "outputs": [],
   "source": [
    "input_dict={\n",
    "                'age': [34,42],\n",
    "                'workclass':['State-gov','Self-emp-not-inc'],\n",
    "                'fnlwgt':[1111,2323],\n",
    "                'education-num':[12,11],\n",
    "                'occupation':['Adm-clerical', 'Exec-managerial'],\n",
    "                'relationship':['Husband', 'Wife'],\n",
    "                'marital-status':['Separated','Separated'],\n",
    "                'race':['Black','Asian-Pac-Islander'],\n",
    "                'sex': ['Male', 'Female'], \n",
    "                'capital-gain':[3000,2000],\n",
    "                'capital-loss': [0,1000],\n",
    "                'hours-per-week':[70,50],\n",
    "                'country':['United-States', 'Cuba']\n",
    "            }\n"
   ]
  },
  {
   "cell_type": "code",
   "execution_count": 4,
   "metadata": {},
   "outputs": [
    {
     "data": {
      "text/html": [
       "<div>\n",
       "<style scoped>\n",
       "    .dataframe tbody tr th:only-of-type {\n",
       "        vertical-align: middle;\n",
       "    }\n",
       "\n",
       "    .dataframe tbody tr th {\n",
       "        vertical-align: top;\n",
       "    }\n",
       "\n",
       "    .dataframe thead th {\n",
       "        text-align: right;\n",
       "    }\n",
       "</style>\n",
       "<table border=\"1\" class=\"dataframe\">\n",
       "  <thead>\n",
       "    <tr style=\"text-align: right;\">\n",
       "      <th></th>\n",
       "      <th>age</th>\n",
       "      <th>workclass</th>\n",
       "      <th>fnlwgt</th>\n",
       "      <th>education-num</th>\n",
       "      <th>occupation</th>\n",
       "      <th>relationship</th>\n",
       "      <th>marital-status</th>\n",
       "      <th>race</th>\n",
       "      <th>sex</th>\n",
       "      <th>capital-gain</th>\n",
       "      <th>capital-loss</th>\n",
       "      <th>hours-per-week</th>\n",
       "      <th>country</th>\n",
       "    </tr>\n",
       "  </thead>\n",
       "  <tbody>\n",
       "    <tr>\n",
       "      <th>0</th>\n",
       "      <td>34</td>\n",
       "      <td>State-gov</td>\n",
       "      <td>1111</td>\n",
       "      <td>12</td>\n",
       "      <td>Adm-clerical</td>\n",
       "      <td>Husband</td>\n",
       "      <td>Separated</td>\n",
       "      <td>Black</td>\n",
       "      <td>Male</td>\n",
       "      <td>3000</td>\n",
       "      <td>0</td>\n",
       "      <td>70</td>\n",
       "      <td>United-States</td>\n",
       "    </tr>\n",
       "    <tr>\n",
       "      <th>1</th>\n",
       "      <td>42</td>\n",
       "      <td>Self-emp-not-inc</td>\n",
       "      <td>2323</td>\n",
       "      <td>11</td>\n",
       "      <td>Exec-managerial</td>\n",
       "      <td>Wife</td>\n",
       "      <td>Separated</td>\n",
       "      <td>Asian-Pac-Islander</td>\n",
       "      <td>Female</td>\n",
       "      <td>2000</td>\n",
       "      <td>1000</td>\n",
       "      <td>50</td>\n",
       "      <td>Cuba</td>\n",
       "    </tr>\n",
       "  </tbody>\n",
       "</table>\n",
       "</div>"
      ],
      "text/plain": [
       "   age         workclass  fnlwgt  education-num       occupation relationship  \\\n",
       "0   34         State-gov    1111             12     Adm-clerical      Husband   \n",
       "1   42  Self-emp-not-inc    2323             11  Exec-managerial         Wife   \n",
       "\n",
       "  marital-status                race     sex  capital-gain  capital-loss  \\\n",
       "0      Separated               Black    Male          3000             0   \n",
       "1      Separated  Asian-Pac-Islander  Female          2000          1000   \n",
       "\n",
       "   hours-per-week        country  \n",
       "0              70  United-States  \n",
       "1              50           Cuba  "
      ]
     },
     "execution_count": 4,
     "metadata": {},
     "output_type": "execute_result"
    }
   ],
   "source": [
    "#convert the data into a dataframe\n",
    "import pandas as pd\n",
    "input_data=pd.DataFrame(input_dict,index=[0,1])\n",
    "input_data    "
   ]
  },
  {
   "cell_type": "code",
   "execution_count": 5,
   "metadata": {},
   "outputs": [
    {
     "name": "stdout",
     "output_type": "stream",
     "text": [
      "Index(['workclass', 'occupation', 'relationship', 'marital-status', 'race',\n",
      "       'sex', 'country'],\n",
      "      dtype='object')\n",
      "Index(['age', 'fnlwgt', 'education-num', 'capital-gain', 'capital-loss',\n",
      "       'hours-per-week'],\n",
      "      dtype='object')\n"
     ]
    }
   ],
   "source": [
    "categ_features =input_data.select_dtypes(include='object').columns\n",
    "print(categ_features)\n",
    "num_features=input_data.select_dtypes(exclude='object').columns\n",
    "print(num_features)"
   ]
  },
  {
   "cell_type": "code",
   "execution_count": 6,
   "metadata": {},
   "outputs": [],
   "source": [
    "import joblib \n",
    "# load the model ad cleaning methods \n",
    "one_hencoder=joblib.load('1hot_model')\n",
    "scaler_model=joblib.load('scale_model')\n",
    "model=joblib.load('final_model1')"
   ]
  },
  {
   "cell_type": "code",
   "execution_count": 7,
   "metadata": {},
   "outputs": [],
   "source": [
    "on_1=one_hencoder.transform(input_data[categ_features]).toarray()\n"
   ]
  },
  {
   "cell_type": "code",
   "execution_count": 8,
   "metadata": {},
   "outputs": [
    {
     "data": {
      "text/html": [
       "<div>\n",
       "<style scoped>\n",
       "    .dataframe tbody tr th:only-of-type {\n",
       "        vertical-align: middle;\n",
       "    }\n",
       "\n",
       "    .dataframe tbody tr th {\n",
       "        vertical-align: top;\n",
       "    }\n",
       "\n",
       "    .dataframe thead th {\n",
       "        text-align: right;\n",
       "    }\n",
       "</style>\n",
       "<table border=\"1\" class=\"dataframe\">\n",
       "  <thead>\n",
       "    <tr style=\"text-align: right;\">\n",
       "      <th></th>\n",
       "      <th>0</th>\n",
       "      <th>1</th>\n",
       "      <th>2</th>\n",
       "      <th>3</th>\n",
       "      <th>4</th>\n",
       "      <th>5</th>\n",
       "      <th>6</th>\n",
       "      <th>7</th>\n",
       "      <th>8</th>\n",
       "      <th>9</th>\n",
       "      <th>...</th>\n",
       "      <th>66</th>\n",
       "      <th>67</th>\n",
       "      <th>68</th>\n",
       "      <th>69</th>\n",
       "      <th>70</th>\n",
       "      <th>71</th>\n",
       "      <th>72</th>\n",
       "      <th>73</th>\n",
       "      <th>74</th>\n",
       "      <th>75</th>\n",
       "    </tr>\n",
       "  </thead>\n",
       "  <tbody>\n",
       "    <tr>\n",
       "      <th>0</th>\n",
       "      <td>0.0</td>\n",
       "      <td>0.0</td>\n",
       "      <td>0.0</td>\n",
       "      <td>0.0</td>\n",
       "      <td>1.0</td>\n",
       "      <td>0.0</td>\n",
       "      <td>0.0</td>\n",
       "      <td>0.0</td>\n",
       "      <td>0.0</td>\n",
       "      <td>0.0</td>\n",
       "      <td>...</td>\n",
       "      <td>0.0</td>\n",
       "      <td>0.0</td>\n",
       "      <td>0.0</td>\n",
       "      <td>0.0</td>\n",
       "      <td>0.0</td>\n",
       "      <td>0.0</td>\n",
       "      <td>0.0</td>\n",
       "      <td>1.0</td>\n",
       "      <td>0.0</td>\n",
       "      <td>0.0</td>\n",
       "    </tr>\n",
       "    <tr>\n",
       "      <th>1</th>\n",
       "      <td>0.0</td>\n",
       "      <td>0.0</td>\n",
       "      <td>0.0</td>\n",
       "      <td>0.0</td>\n",
       "      <td>1.0</td>\n",
       "      <td>0.0</td>\n",
       "      <td>0.0</td>\n",
       "      <td>0.0</td>\n",
       "      <td>0.0</td>\n",
       "      <td>0.0</td>\n",
       "      <td>...</td>\n",
       "      <td>0.0</td>\n",
       "      <td>0.0</td>\n",
       "      <td>0.0</td>\n",
       "      <td>0.0</td>\n",
       "      <td>0.0</td>\n",
       "      <td>0.0</td>\n",
       "      <td>0.0</td>\n",
       "      <td>0.0</td>\n",
       "      <td>0.0</td>\n",
       "      <td>0.0</td>\n",
       "    </tr>\n",
       "  </tbody>\n",
       "</table>\n",
       "<p>2 rows × 76 columns</p>\n",
       "</div>"
      ],
      "text/plain": [
       "    0    1    2    3    4    5    6    7    8    9   ...   66   67   68   69  \\\n",
       "0  0.0  0.0  0.0  0.0  1.0  0.0  0.0  0.0  0.0  0.0  ...  0.0  0.0  0.0  0.0   \n",
       "1  0.0  0.0  0.0  0.0  1.0  0.0  0.0  0.0  0.0  0.0  ...  0.0  0.0  0.0  0.0   \n",
       "\n",
       "    70   71   72   73   74   75  \n",
       "0  0.0  0.0  0.0  1.0  0.0  0.0  \n",
       "1  0.0  0.0  0.0  0.0  0.0  0.0  \n",
       "\n",
       "[2 rows x 76 columns]"
      ]
     },
     "execution_count": 8,
     "metadata": {},
     "output_type": "execute_result"
    }
   ],
   "source": [
    "pd.DataFrame(on_1) "
   ]
  },
  {
   "cell_type": "code",
   "execution_count": 9,
   "metadata": {},
   "outputs": [
    {
     "data": {
      "text/plain": [
       "array(['marital-status_Married-AF-spouse',\n",
       "       'marital-status_Married-civ-spouse',\n",
       "       'marital-status_Married-spouse-absent',\n",
       "       'marital-status_Never-married', 'marital-status_Separated',\n",
       "       'marital-status_Widowed', 'relationship_Not-in-family',\n",
       "       'relationship_Other-relative', 'relationship_Own-child',\n",
       "       'relationship_Unmarried', 'relationship_Wife',\n",
       "       'race_Asian-Pac-Islander', 'race_Black', 'race_Other',\n",
       "       'race_White', 'sex_Male', 'workclass_Local-gov',\n",
       "       'workclass_Never-worked', 'workclass_Private',\n",
       "       'workclass_Self-emp-inc', 'workclass_Self-emp-not-inc',\n",
       "       'workclass_State-gov', 'workclass_Without-pay',\n",
       "       'occupation_Armed-Forces', 'occupation_Craft-repair',\n",
       "       'occupation_Exec-managerial', 'occupation_Farming-fishing',\n",
       "       'occupation_Handlers-cleaners', 'occupation_Machine-op-inspct',\n",
       "       'occupation_Other-service', 'occupation_Priv-house-serv',\n",
       "       'occupation_Prof-specialty', 'occupation_Protective-serv',\n",
       "       'occupation_Sales', 'occupation_Tech-support',\n",
       "       'occupation_Transport-moving', 'country_Canada', 'country_China',\n",
       "       'country_Columbia', 'country_Cuba', 'country_Dominican-Republic',\n",
       "       'country_Ecuador', 'country_El-Salvador', 'country_England',\n",
       "       'country_France', 'country_Germany', 'country_Greece',\n",
       "       'country_Guatemala', 'country_Haiti', 'country_Holand-Netherlands',\n",
       "       'country_Honduras', 'country_Hong', 'country_Hungary',\n",
       "       'country_India', 'country_Iran', 'country_Ireland',\n",
       "       'country_Italy', 'country_Jamaica', 'country_Japan',\n",
       "       'country_Laos', 'country_Mexico', 'country_Nicaragua',\n",
       "       'country_Outlying-US(Guam-USVI-etc)', 'country_Peru',\n",
       "       'country_Philippines', 'country_Poland', 'country_Portugal',\n",
       "       'country_Puerto-Rico', 'country_Scotland', 'country_South',\n",
       "       'country_Taiwan', 'country_Thailand', 'country_Trinadad&Tobago',\n",
       "       'country_United-States', 'country_Vietnam', 'country_Yugoslavia'],\n",
       "      dtype=object)"
      ]
     },
     "execution_count": 9,
     "metadata": {},
     "output_type": "execute_result"
    }
   ],
   "source": [
    "onc=one_hencoder.named_transformers_['cat_encoding'].named_steps['onehot']\n",
    "onc.get_feature_names_out()"
   ]
  },
  {
   "cell_type": "code",
   "execution_count": 10,
   "metadata": {},
   "outputs": [
    {
     "data": {
      "text/plain": [
       "array(['marital-status_Married-AF-spouse',\n",
       "       'marital-status_Married-civ-spouse',\n",
       "       'marital-status_Married-spouse-absent',\n",
       "       'marital-status_Never-married', 'marital-status_Separated',\n",
       "       'marital-status_Widowed', 'relationship_Not-in-family',\n",
       "       'relationship_Other-relative', 'relationship_Own-child',\n",
       "       'relationship_Unmarried', 'relationship_Wife',\n",
       "       'race_Asian-Pac-Islander', 'race_Black', 'race_Other',\n",
       "       'race_White', 'sex_Male', 'workclass_Local-gov',\n",
       "       'workclass_Never-worked', 'workclass_Private',\n",
       "       'workclass_Self-emp-inc', 'workclass_Self-emp-not-inc',\n",
       "       'workclass_State-gov', 'workclass_Without-pay',\n",
       "       'occupation_Armed-Forces', 'occupation_Craft-repair',\n",
       "       'occupation_Exec-managerial', 'occupation_Farming-fishing',\n",
       "       'occupation_Handlers-cleaners', 'occupation_Machine-op-inspct',\n",
       "       'occupation_Other-service', 'occupation_Priv-house-serv',\n",
       "       'occupation_Prof-specialty', 'occupation_Protective-serv',\n",
       "       'occupation_Sales', 'occupation_Tech-support',\n",
       "       'occupation_Transport-moving', 'country_Canada', 'country_China',\n",
       "       'country_Columbia', 'country_Cuba', 'country_Dominican-Republic',\n",
       "       'country_Ecuador', 'country_El-Salvador', 'country_England',\n",
       "       'country_France', 'country_Germany', 'country_Greece',\n",
       "       'country_Guatemala', 'country_Haiti', 'country_Holand-Netherlands',\n",
       "       'country_Honduras', 'country_Hong', 'country_Hungary',\n",
       "       'country_India', 'country_Iran', 'country_Ireland',\n",
       "       'country_Italy', 'country_Jamaica', 'country_Japan',\n",
       "       'country_Laos', 'country_Mexico', 'country_Nicaragua',\n",
       "       'country_Outlying-US(Guam-USVI-etc)', 'country_Peru',\n",
       "       'country_Philippines', 'country_Poland', 'country_Portugal',\n",
       "       'country_Puerto-Rico', 'country_Scotland', 'country_South',\n",
       "       'country_Taiwan', 'country_Thailand', 'country_Trinadad&Tobago',\n",
       "       'country_United-States', 'country_Vietnam', 'country_Yugoslavia'],\n",
       "      dtype=object)"
      ]
     },
     "execution_count": 10,
     "metadata": {},
     "output_type": "execute_result"
    }
   ],
   "source": [
    "feature_names=onc.get_feature_names_out()\n",
    "feature_names"
   ]
  },
  {
   "cell_type": "code",
   "execution_count": 11,
   "metadata": {},
   "outputs": [],
   "source": [
    "c=pd.DataFrame(on_1,columns=feature_names)"
   ]
  },
  {
   "cell_type": "code",
   "execution_count": 12,
   "metadata": {},
   "outputs": [
    {
     "name": "stdout",
     "output_type": "stream",
     "text": [
      "the workclass has 2\n",
      "\n",
      "the occupation has 2\n",
      "\n",
      "the relationship has 2\n",
      "\n",
      "the marital-status has 1\n",
      "\n",
      "the race has 2\n",
      "\n",
      "the sex has 2\n",
      "\n",
      "the country has 2\n",
      "\n"
     ]
    }
   ],
   "source": [
    "len(categ_features) #7\n",
    "for col in categ_features:\n",
    "    a=input_data[col].nunique()\n",
    "    print(f'the {col} has {a}\\n')"
   ]
  },
  {
   "cell_type": "code",
   "execution_count": 13,
   "metadata": {},
   "outputs": [
    {
     "name": "stdout",
     "output_type": "stream",
     "text": [
      "        age    fnlwgt  education-num  capital-gain  capital-loss  \\\n",
      "0  0.232877 -0.007589       0.733333          0.03      0.000000   \n",
      "1  0.342466 -0.006766       0.666667          0.02      0.229568   \n",
      "\n",
      "   hours-per-week  \n",
      "0        0.704082  \n",
      "1        0.500000  \n"
     ]
    }
   ],
   "source": [
    "clean_data2=scaler_model.transform(input_data[num_features])\n",
    "clean_data2_=pd.DataFrame()\n",
    "clean_data2_=pd.DataFrame(clean_data2,columns=num_features)\n",
    "print(clean_data2_)"
   ]
  },
  {
   "cell_type": "code",
   "execution_count": 14,
   "metadata": {},
   "outputs": [
    {
     "data": {
      "text/html": [
       "<div>\n",
       "<style scoped>\n",
       "    .dataframe tbody tr th:only-of-type {\n",
       "        vertical-align: middle;\n",
       "    }\n",
       "\n",
       "    .dataframe tbody tr th {\n",
       "        vertical-align: top;\n",
       "    }\n",
       "\n",
       "    .dataframe thead th {\n",
       "        text-align: right;\n",
       "    }\n",
       "</style>\n",
       "<table border=\"1\" class=\"dataframe\">\n",
       "  <thead>\n",
       "    <tr style=\"text-align: right;\">\n",
       "      <th></th>\n",
       "      <th>age</th>\n",
       "      <th>fnlwgt</th>\n",
       "      <th>education-num</th>\n",
       "      <th>capital-gain</th>\n",
       "      <th>capital-loss</th>\n",
       "      <th>hours-per-week</th>\n",
       "      <th>marital-status_Married-AF-spouse</th>\n",
       "      <th>marital-status_Married-civ-spouse</th>\n",
       "      <th>marital-status_Married-spouse-absent</th>\n",
       "      <th>marital-status_Never-married</th>\n",
       "      <th>...</th>\n",
       "      <th>country_Portugal</th>\n",
       "      <th>country_Puerto-Rico</th>\n",
       "      <th>country_Scotland</th>\n",
       "      <th>country_South</th>\n",
       "      <th>country_Taiwan</th>\n",
       "      <th>country_Thailand</th>\n",
       "      <th>country_Trinadad&amp;Tobago</th>\n",
       "      <th>country_United-States</th>\n",
       "      <th>country_Vietnam</th>\n",
       "      <th>country_Yugoslavia</th>\n",
       "    </tr>\n",
       "  </thead>\n",
       "  <tbody>\n",
       "    <tr>\n",
       "      <th>0</th>\n",
       "      <td>0.232877</td>\n",
       "      <td>-0.007589</td>\n",
       "      <td>0.733333</td>\n",
       "      <td>0.03</td>\n",
       "      <td>0.000000</td>\n",
       "      <td>0.704082</td>\n",
       "      <td>0.0</td>\n",
       "      <td>0.0</td>\n",
       "      <td>0.0</td>\n",
       "      <td>0.0</td>\n",
       "      <td>...</td>\n",
       "      <td>0.0</td>\n",
       "      <td>0.0</td>\n",
       "      <td>0.0</td>\n",
       "      <td>0.0</td>\n",
       "      <td>0.0</td>\n",
       "      <td>0.0</td>\n",
       "      <td>0.0</td>\n",
       "      <td>1.0</td>\n",
       "      <td>0.0</td>\n",
       "      <td>0.0</td>\n",
       "    </tr>\n",
       "    <tr>\n",
       "      <th>1</th>\n",
       "      <td>0.342466</td>\n",
       "      <td>-0.006766</td>\n",
       "      <td>0.666667</td>\n",
       "      <td>0.02</td>\n",
       "      <td>0.229568</td>\n",
       "      <td>0.500000</td>\n",
       "      <td>0.0</td>\n",
       "      <td>0.0</td>\n",
       "      <td>0.0</td>\n",
       "      <td>0.0</td>\n",
       "      <td>...</td>\n",
       "      <td>0.0</td>\n",
       "      <td>0.0</td>\n",
       "      <td>0.0</td>\n",
       "      <td>0.0</td>\n",
       "      <td>0.0</td>\n",
       "      <td>0.0</td>\n",
       "      <td>0.0</td>\n",
       "      <td>0.0</td>\n",
       "      <td>0.0</td>\n",
       "      <td>0.0</td>\n",
       "    </tr>\n",
       "  </tbody>\n",
       "</table>\n",
       "<p>2 rows × 82 columns</p>\n",
       "</div>"
      ],
      "text/plain": [
       "        age    fnlwgt  education-num  capital-gain  capital-loss  \\\n",
       "0  0.232877 -0.007589       0.733333          0.03      0.000000   \n",
       "1  0.342466 -0.006766       0.666667          0.02      0.229568   \n",
       "\n",
       "   hours-per-week  marital-status_Married-AF-spouse  \\\n",
       "0        0.704082                               0.0   \n",
       "1        0.500000                               0.0   \n",
       "\n",
       "   marital-status_Married-civ-spouse  marital-status_Married-spouse-absent  \\\n",
       "0                                0.0                                   0.0   \n",
       "1                                0.0                                   0.0   \n",
       "\n",
       "   marital-status_Never-married  ...  country_Portugal  country_Puerto-Rico  \\\n",
       "0                           0.0  ...               0.0                  0.0   \n",
       "1                           0.0  ...               0.0                  0.0   \n",
       "\n",
       "   country_Scotland  country_South  country_Taiwan  country_Thailand  \\\n",
       "0               0.0            0.0             0.0               0.0   \n",
       "1               0.0            0.0             0.0               0.0   \n",
       "\n",
       "   country_Trinadad&Tobago  country_United-States  country_Vietnam  \\\n",
       "0                      0.0                    1.0              0.0   \n",
       "1                      0.0                    0.0              0.0   \n",
       "\n",
       "   country_Yugoslavia  \n",
       "0                 0.0  \n",
       "1                 0.0  \n",
       "\n",
       "[2 rows x 82 columns]"
      ]
     },
     "execution_count": 14,
     "metadata": {},
     "output_type": "execute_result"
    }
   ],
   "source": [
    "ph=pd.concat([clean_data2_,c],axis=1)\n",
    "ph"
   ]
  },
  {
   "cell_type": "code",
   "execution_count": 15,
   "metadata": {},
   "outputs": [
    {
     "name": "stdout",
     "output_type": "stream",
     "text": [
      "[0 0]\n"
     ]
    }
   ],
   "source": [
    "#make prediction on the cleaned data\n",
    "predicted_value=model.predict(ph)\n",
    "print(predicted_value)"
   ]
  },
  {
   "cell_type": "code",
   "execution_count": 16,
   "metadata": {},
   "outputs": [
    {
     "data": {
      "text/plain": [
       "numpy.ndarray"
      ]
     },
     "execution_count": 16,
     "metadata": {},
     "output_type": "execute_result"
    }
   ],
   "source": [
    "type(predicted_value)"
   ]
  },
  {
   "cell_type": "code",
   "execution_count": null,
   "metadata": {},
   "outputs": [],
   "source": []
  }
 ],
 "metadata": {
  "kernelspec": {
   "display_name": "Python 3",
   "language": "python",
   "name": "python3"
  },
  "language_info": {
   "codemirror_mode": {
    "name": "ipython",
    "version": 3
   },
   "file_extension": ".py",
   "mimetype": "text/x-python",
   "name": "python",
   "nbconvert_exporter": "python",
   "pygments_lexer": "ipython3",
   "version": "3.10.9"
  }
 },
 "nbformat": 4,
 "nbformat_minor": 2
}
